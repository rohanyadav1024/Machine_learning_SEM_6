{
  "nbformat": 4,
  "nbformat_minor": 0,
  "metadata": {
    "colab": {
      "provenance": [],
      "include_colab_link": true
    },
    "kernelspec": {
      "name": "python3",
      "display_name": "Python 3"
    },
    "language_info": {
      "name": "python"
    }
  },
  "cells": [
    {
      "cell_type": "markdown",
      "metadata": {
        "id": "view-in-github",
        "colab_type": "text"
      },
      "source": [
        "<a href=\"https://colab.research.google.com/github/prathviraj443s/Machine_Learning/blob/main/ANN.ipynb\" target=\"_parent\"><img src=\"https://colab.research.google.com/assets/colab-badge.svg\" alt=\"Open In Colab\"/></a>"
      ]
    },
    {
      "cell_type": "markdown",
      "source": [
        "This code loads the MNIST dataset, a collection of handwritten digit images, and their corresponding labels, split into training and test sets. It sets up variables for images and labels for both training and testing purposes.\n",
        "\n",
        "\n",
        "\n",
        "\n",
        "\n"
      ],
      "metadata": {
        "id": "wlnFdi-dqNf_"
      }
    },
    {
      "cell_type": "code",
      "source": [
        "from keras.datasets import mnist\n",
        "(train_images, train_labels), (test_images, test_labels) = mnist.load_data()\n"
      ],
      "metadata": {
        "id": "S-tVYhz9oJjn",
        "outputId": "6692c151-35da-48b0-cd53-1a1ff9b7ca05",
        "colab": {
          "base_uri": "https://localhost:8080/"
        }
      },
      "execution_count": 1,
      "outputs": [
        {
          "output_type": "stream",
          "name": "stdout",
          "text": [
            "Downloading data from https://storage.googleapis.com/tensorflow/tf-keras-datasets/mnist.npz\n",
            "11490434/11490434 [==============================] - 0s 0us/step\n"
          ]
        }
      ]
    },
    {
      "cell_type": "markdown",
      "source": [
        "These lines inspect the dimensions and sizes of the training and test datasets, displaying the shapes of the image arrays and the lengths of their associated label arrays.\n",
        "\n",
        "\n",
        "\n",
        "\n",
        "\n"
      ],
      "metadata": {
        "id": "PWKd8z9dkUJn"
      }
    },
    {
      "cell_type": "code",
      "source": [
        "train_images.shape\n",
        "len(train_labels)\n",
        "train_labels\n",
        "test_images.shape\n",
        "len(test_labels)\n",
        "test_labels\n"
      ],
      "metadata": {
        "id": "W5lXpBuzoTwx",
        "outputId": "3f7e3301-e7f8-4469-a319-ed7a0f374a3b",
        "colab": {
          "base_uri": "https://localhost:8080/"
        }
      },
      "execution_count": 2,
      "outputs": [
        {
          "output_type": "execute_result",
          "data": {
            "text/plain": [
              "array([7, 2, 1, ..., 4, 5, 6], dtype=uint8)"
            ]
          },
          "metadata": {},
          "execution_count": 2
        }
      ]
    },
    {
      "cell_type": "markdown",
      "source": [
        "The network architecture"
      ],
      "metadata": {
        "id": "lY9QnJc8oW98"
      }
    },
    {
      "cell_type": "markdown",
      "source": [
        "This code snippet defines a neural network architecture with multiple layers using Keras, employing sigmoid activation functions for hidden layers and softmax for the output layer. It then mounts Google Drive for file access within the Google Colab environment.\n",
        "\n",
        "\n",
        "\n",
        "\n",
        "\n"
      ],
      "metadata": {
        "id": "NDtUmh5Eko4L"
      }
    },
    {
      "cell_type": "code",
      "source": [
        "from keras import models\n",
        "from keras import layers\n",
        "network = models.Sequential()\n",
        "# Dense(32) is a fully-connected layer with 32 hidden units.\n",
        "# in the first layer, you must specify the expected input data shape :\n",
        "# here, 28 X 28=784 -dimensional vectors.\n",
        "network.add(layers.Dense(32, activation='sigmoid', input_shape=(28 * 28, )))\n",
        "network.add(layers.Dense(8, activation='sigmoid'))\n",
        "network.add(layers.Dense(10, activation='softmax'))\n",
        "network.summary()\n",
        "from google.colab import drive\n",
        "drive.mount('/content/drive')\n"
      ],
      "metadata": {
        "colab": {
          "base_uri": "https://localhost:8080/"
        },
        "id": "bDQ0ElvPoZH6",
        "outputId": "7ab87d66-66b6-4107-9bd6-7de4c2ae69ab"
      },
      "execution_count": 3,
      "outputs": [
        {
          "output_type": "stream",
          "name": "stdout",
          "text": [
            "Model: \"sequential\"\n",
            "_________________________________________________________________\n",
            " Layer (type)                Output Shape              Param #   \n",
            "=================================================================\n",
            " dense (Dense)               (None, 32)                25120     \n",
            "                                                                 \n",
            " dense_1 (Dense)             (None, 8)                 264       \n",
            "                                                                 \n",
            " dense_2 (Dense)             (None, 10)                90        \n",
            "                                                                 \n",
            "=================================================================\n",
            "Total params: 25474 (99.51 KB)\n",
            "Trainable params: 25474 (99.51 KB)\n",
            "Non-trainable params: 0 (0.00 Byte)\n",
            "_________________________________________________________________\n",
            "Mounted at /content/drive\n"
          ]
        }
      ]
    },
    {
      "cell_type": "markdown",
      "source": [
        "The compilation step"
      ],
      "metadata": {
        "id": "U7I7xhQjoeWH"
      }
    },
    {
      "cell_type": "markdown",
      "source": [
        "This code compiles the defined neural network model, specifying the optimizer (Stochastic Gradient Descent), loss function (categorical cross-entropy), and evaluation metric (accuracy) to be used during training."
      ],
      "metadata": {
        "id": "t_yTSVAHk5zU"
      }
    },
    {
      "cell_type": "code",
      "source": [
        "network.compile(optimizer='sgd',\n",
        "                loss='categorical_crossentropy',\n",
        "                metrics=['accuracy'])"
      ],
      "metadata": {
        "id": "_AkirVt0oe6B"
      },
      "execution_count": 4,
      "outputs": []
    },
    {
      "cell_type": "markdown",
      "source": [
        "Preparing the image data"
      ],
      "metadata": {
        "id": "Frz-vGxWogvz"
      }
    },
    {
      "cell_type": "markdown",
      "source": [
        "This code preprocesses the image data by reshaping the arrays to flatten them into 1D vectors, normalizing pixel values to the range [0, 1] by dividing by 255, and converting the data type to float32 for both training and testing images.\n",
        "\n",
        "\n",
        "\n",
        "\n",
        "\n"
      ],
      "metadata": {
        "id": "bVdxcbCqlJ9d"
      }
    },
    {
      "cell_type": "code",
      "source": [
        "train_images = train_images.reshape((60000, 28 * 28))\n",
        "train_images = train_images.astype('float32') / 255.\n",
        "test_images = test_images.reshape((10000, 28 * 28))\n",
        "test_images = test_images.astype('float32') / 255."
      ],
      "metadata": {
        "id": "0LwIHz42oi7A"
      },
      "execution_count": 5,
      "outputs": []
    },
    {
      "cell_type": "markdown",
      "source": [
        "Preparing the labels"
      ],
      "metadata": {
        "id": "xa8dldHFonMc"
      }
    },
    {
      "cell_type": "markdown",
      "source": [
        "This code converts the categorical labels into one-hot encoded vectors for both the training and testing datasets using the to_categorical function from Keras utils module. The resulting labels are displayed, showing the transformation into a binary matrix format."
      ],
      "metadata": {
        "id": "Wh2ajCvclSwJ"
      }
    },
    {
      "cell_type": "code",
      "source": [
        "from keras.utils import to_categorical\n",
        "train_labels = to_categorical(train_labels)\n",
        "train_labels\n",
        "test_labels = to_categorical(test_labels)\n",
        "test_labels\n"
      ],
      "metadata": {
        "colab": {
          "base_uri": "https://localhost:8080/"
        },
        "id": "C7cSamqnoprH",
        "outputId": "59ad4466-1621-4149-c589-c4e390170bfc"
      },
      "execution_count": 6,
      "outputs": [
        {
          "output_type": "execute_result",
          "data": {
            "text/plain": [
              "array([[0., 0., 0., ..., 1., 0., 0.],\n",
              "       [0., 0., 1., ..., 0., 0., 0.],\n",
              "       [0., 1., 0., ..., 0., 0., 0.],\n",
              "       ...,\n",
              "       [0., 0., 0., ..., 0., 0., 0.],\n",
              "       [0., 0., 0., ..., 0., 0., 0.],\n",
              "       [0., 0., 0., ..., 0., 0., 0.]], dtype=float32)"
            ]
          },
          "metadata": {},
          "execution_count": 6
        }
      ]
    },
    {
      "cell_type": "markdown",
      "source": [
        "Training and Testing"
      ],
      "metadata": {
        "id": "MdyP_vQyossQ"
      }
    },
    {
      "cell_type": "markdown",
      "source": [],
      "metadata": {
        "id": "1ffTeqRLla4j"
      }
    },
    {
      "cell_type": "code",
      "source": [
        "network.fit(train_images, train_labels, epochs=160, batch_size=512)"
      ],
      "metadata": {
        "colab": {
          "base_uri": "https://localhost:8080/"
        },
        "id": "xyUWJqXrouuJ",
        "outputId": "3df81747-a8ad-42ad-aadc-3cd5875f6181"
      },
      "execution_count": 7,
      "outputs": [
        {
          "output_type": "stream",
          "name": "stdout",
          "text": [
            "Epoch 1/160\n",
            "118/118 [==============================] - 3s 11ms/step - loss: 2.3282 - accuracy: 0.0986\n",
            "Epoch 2/160\n",
            "118/118 [==============================] - 2s 13ms/step - loss: 2.3052 - accuracy: 0.0961\n",
            "Epoch 3/160\n",
            "118/118 [==============================] - 1s 12ms/step - loss: 2.2932 - accuracy: 0.1116\n",
            "Epoch 4/160\n",
            "118/118 [==============================] - 1s 11ms/step - loss: 2.2846 - accuracy: 0.1876\n",
            "Epoch 5/160\n",
            "118/118 [==============================] - 1s 12ms/step - loss: 2.2774 - accuracy: 0.1950\n",
            "Epoch 6/160\n",
            "118/118 [==============================] - 1s 7ms/step - loss: 2.2705 - accuracy: 0.1995\n",
            "Epoch 7/160\n",
            "118/118 [==============================] - 1s 5ms/step - loss: 2.2636 - accuracy: 0.2026\n",
            "Epoch 8/160\n",
            "118/118 [==============================] - 1s 5ms/step - loss: 2.2566 - accuracy: 0.2149\n",
            "Epoch 9/160\n",
            "118/118 [==============================] - 1s 5ms/step - loss: 2.2493 - accuracy: 0.2300\n",
            "Epoch 10/160\n",
            "118/118 [==============================] - 1s 5ms/step - loss: 2.2416 - accuracy: 0.2521\n",
            "Epoch 11/160\n",
            "118/118 [==============================] - 1s 5ms/step - loss: 2.2336 - accuracy: 0.2618\n",
            "Epoch 12/160\n",
            "118/118 [==============================] - 1s 5ms/step - loss: 2.2250 - accuracy: 0.2849\n",
            "Epoch 13/160\n",
            "118/118 [==============================] - 1s 5ms/step - loss: 2.2160 - accuracy: 0.3184\n",
            "Epoch 14/160\n",
            "118/118 [==============================] - 1s 5ms/step - loss: 2.2063 - accuracy: 0.3373\n",
            "Epoch 15/160\n",
            "118/118 [==============================] - 1s 5ms/step - loss: 2.1961 - accuracy: 0.3657\n",
            "Epoch 16/160\n",
            "118/118 [==============================] - 1s 5ms/step - loss: 2.1852 - accuracy: 0.3877\n",
            "Epoch 17/160\n",
            "118/118 [==============================] - 1s 5ms/step - loss: 2.1736 - accuracy: 0.4090\n",
            "Epoch 18/160\n",
            "118/118 [==============================] - 1s 5ms/step - loss: 2.1611 - accuracy: 0.4225\n",
            "Epoch 19/160\n",
            "118/118 [==============================] - 1s 5ms/step - loss: 2.1479 - accuracy: 0.4408\n",
            "Epoch 20/160\n",
            "118/118 [==============================] - 1s 5ms/step - loss: 2.1338 - accuracy: 0.4533\n",
            "Epoch 21/160\n",
            "118/118 [==============================] - 1s 5ms/step - loss: 2.1188 - accuracy: 0.4663\n",
            "Epoch 22/160\n",
            "118/118 [==============================] - 1s 7ms/step - loss: 2.1029 - accuracy: 0.4785\n",
            "Epoch 23/160\n",
            "118/118 [==============================] - 1s 8ms/step - loss: 2.0861 - accuracy: 0.4904\n",
            "Epoch 24/160\n",
            "118/118 [==============================] - 1s 7ms/step - loss: 2.0683 - accuracy: 0.4969\n",
            "Epoch 25/160\n",
            "118/118 [==============================] - 1s 8ms/step - loss: 2.0495 - accuracy: 0.5057\n",
            "Epoch 26/160\n",
            "118/118 [==============================] - 1s 7ms/step - loss: 2.0298 - accuracy: 0.5151\n",
            "Epoch 27/160\n",
            "118/118 [==============================] - 1s 6ms/step - loss: 2.0092 - accuracy: 0.5230\n",
            "Epoch 28/160\n",
            "118/118 [==============================] - 1s 5ms/step - loss: 1.9878 - accuracy: 0.5303\n",
            "Epoch 29/160\n",
            "118/118 [==============================] - 1s 5ms/step - loss: 1.9655 - accuracy: 0.5388\n",
            "Epoch 30/160\n",
            "118/118 [==============================] - 1s 5ms/step - loss: 1.9425 - accuracy: 0.5456\n",
            "Epoch 31/160\n",
            "118/118 [==============================] - 1s 5ms/step - loss: 1.9188 - accuracy: 0.5528\n",
            "Epoch 32/160\n",
            "118/118 [==============================] - 1s 5ms/step - loss: 1.8945 - accuracy: 0.5584\n",
            "Epoch 33/160\n",
            "118/118 [==============================] - 1s 5ms/step - loss: 1.8697 - accuracy: 0.5654\n",
            "Epoch 34/160\n",
            "118/118 [==============================] - 1s 5ms/step - loss: 1.8445 - accuracy: 0.5727\n",
            "Epoch 35/160\n",
            "118/118 [==============================] - 1s 5ms/step - loss: 1.8191 - accuracy: 0.5782\n",
            "Epoch 36/160\n",
            "118/118 [==============================] - 1s 5ms/step - loss: 1.7934 - accuracy: 0.5850\n",
            "Epoch 37/160\n",
            "118/118 [==============================] - 1s 5ms/step - loss: 1.7677 - accuracy: 0.5907\n",
            "Epoch 38/160\n",
            "118/118 [==============================] - 1s 5ms/step - loss: 1.7419 - accuracy: 0.5968\n",
            "Epoch 39/160\n",
            "118/118 [==============================] - 1s 5ms/step - loss: 1.7162 - accuracy: 0.6019\n",
            "Epoch 40/160\n",
            "118/118 [==============================] - 1s 5ms/step - loss: 1.6907 - accuracy: 0.6068\n",
            "Epoch 41/160\n",
            "118/118 [==============================] - 1s 5ms/step - loss: 1.6655 - accuracy: 0.6128\n",
            "Epoch 42/160\n",
            "118/118 [==============================] - 1s 5ms/step - loss: 1.6405 - accuracy: 0.6178\n",
            "Epoch 43/160\n",
            "118/118 [==============================] - 1s 5ms/step - loss: 1.6160 - accuracy: 0.6230\n",
            "Epoch 44/160\n",
            "118/118 [==============================] - 1s 5ms/step - loss: 1.5919 - accuracy: 0.6276\n",
            "Epoch 45/160\n",
            "118/118 [==============================] - 1s 7ms/step - loss: 1.5683 - accuracy: 0.6313\n",
            "Epoch 46/160\n",
            "118/118 [==============================] - 1s 7ms/step - loss: 1.5452 - accuracy: 0.6361\n",
            "Epoch 47/160\n",
            "118/118 [==============================] - 1s 7ms/step - loss: 1.5226 - accuracy: 0.6401\n",
            "Epoch 48/160\n",
            "118/118 [==============================] - 1s 7ms/step - loss: 1.5006 - accuracy: 0.6448\n",
            "Epoch 49/160\n",
            "118/118 [==============================] - 1s 8ms/step - loss: 1.4791 - accuracy: 0.6480\n",
            "Epoch 50/160\n",
            "118/118 [==============================] - 1s 6ms/step - loss: 1.4583 - accuracy: 0.6517\n",
            "Epoch 51/160\n",
            "118/118 [==============================] - 1s 5ms/step - loss: 1.4379 - accuracy: 0.6557\n",
            "Epoch 52/160\n",
            "118/118 [==============================] - 1s 5ms/step - loss: 1.4182 - accuracy: 0.6589\n",
            "Epoch 53/160\n",
            "118/118 [==============================] - 1s 5ms/step - loss: 1.3990 - accuracy: 0.6615\n",
            "Epoch 54/160\n",
            "118/118 [==============================] - 1s 5ms/step - loss: 1.3803 - accuracy: 0.6639\n",
            "Epoch 55/160\n",
            "118/118 [==============================] - 1s 5ms/step - loss: 1.3622 - accuracy: 0.6669\n",
            "Epoch 56/160\n",
            "118/118 [==============================] - 1s 5ms/step - loss: 1.3446 - accuracy: 0.6695\n",
            "Epoch 57/160\n",
            "118/118 [==============================] - 1s 5ms/step - loss: 1.3276 - accuracy: 0.6731\n",
            "Epoch 58/160\n",
            "118/118 [==============================] - 1s 5ms/step - loss: 1.3110 - accuracy: 0.6762\n",
            "Epoch 59/160\n",
            "118/118 [==============================] - 1s 5ms/step - loss: 1.2948 - accuracy: 0.6780\n",
            "Epoch 60/160\n",
            "118/118 [==============================] - 1s 5ms/step - loss: 1.2792 - accuracy: 0.6803\n",
            "Epoch 61/160\n",
            "118/118 [==============================] - 1s 5ms/step - loss: 1.2639 - accuracy: 0.6838\n",
            "Epoch 62/160\n",
            "118/118 [==============================] - 1s 5ms/step - loss: 1.2491 - accuracy: 0.6856\n",
            "Epoch 63/160\n",
            "118/118 [==============================] - 1s 5ms/step - loss: 1.2347 - accuracy: 0.6889\n",
            "Epoch 64/160\n",
            "118/118 [==============================] - 1s 5ms/step - loss: 1.2207 - accuracy: 0.6915\n",
            "Epoch 65/160\n",
            "118/118 [==============================] - 1s 5ms/step - loss: 1.2071 - accuracy: 0.6931\n",
            "Epoch 66/160\n",
            "118/118 [==============================] - 1s 5ms/step - loss: 1.1938 - accuracy: 0.6960\n",
            "Epoch 67/160\n",
            "118/118 [==============================] - 1s 7ms/step - loss: 1.1809 - accuracy: 0.6984\n",
            "Epoch 68/160\n",
            "118/118 [==============================] - 1s 8ms/step - loss: 1.1682 - accuracy: 0.7006\n",
            "Epoch 69/160\n",
            "118/118 [==============================] - 1s 8ms/step - loss: 1.1560 - accuracy: 0.7031\n",
            "Epoch 70/160\n",
            "118/118 [==============================] - 1s 7ms/step - loss: 1.1440 - accuracy: 0.7058\n",
            "Epoch 71/160\n",
            "118/118 [==============================] - 1s 7ms/step - loss: 1.1323 - accuracy: 0.7084\n",
            "Epoch 72/160\n",
            "118/118 [==============================] - 1s 6ms/step - loss: 1.1209 - accuracy: 0.7106\n",
            "Epoch 73/160\n",
            "118/118 [==============================] - 1s 5ms/step - loss: 1.1098 - accuracy: 0.7134\n",
            "Epoch 74/160\n",
            "118/118 [==============================] - 1s 5ms/step - loss: 1.0990 - accuracy: 0.7159\n",
            "Epoch 75/160\n",
            "118/118 [==============================] - 1s 5ms/step - loss: 1.0884 - accuracy: 0.7187\n",
            "Epoch 76/160\n",
            "118/118 [==============================] - 1s 5ms/step - loss: 1.0781 - accuracy: 0.7214\n",
            "Epoch 77/160\n",
            "118/118 [==============================] - 1s 5ms/step - loss: 1.0680 - accuracy: 0.7236\n",
            "Epoch 78/160\n",
            "118/118 [==============================] - 1s 5ms/step - loss: 1.0582 - accuracy: 0.7260\n",
            "Epoch 79/160\n",
            "118/118 [==============================] - 1s 5ms/step - loss: 1.0486 - accuracy: 0.7284\n",
            "Epoch 80/160\n",
            "118/118 [==============================] - 1s 5ms/step - loss: 1.0392 - accuracy: 0.7310\n",
            "Epoch 81/160\n",
            "118/118 [==============================] - 1s 5ms/step - loss: 1.0300 - accuracy: 0.7329\n",
            "Epoch 82/160\n",
            "118/118 [==============================] - 1s 5ms/step - loss: 1.0211 - accuracy: 0.7353\n",
            "Epoch 83/160\n",
            "118/118 [==============================] - 1s 5ms/step - loss: 1.0123 - accuracy: 0.7380\n",
            "Epoch 84/160\n",
            "118/118 [==============================] - 1s 5ms/step - loss: 1.0037 - accuracy: 0.7397\n",
            "Epoch 85/160\n",
            "118/118 [==============================] - 1s 5ms/step - loss: 0.9954 - accuracy: 0.7423\n",
            "Epoch 86/160\n",
            "118/118 [==============================] - 1s 5ms/step - loss: 0.9872 - accuracy: 0.7446\n",
            "Epoch 87/160\n",
            "118/118 [==============================] - 1s 5ms/step - loss: 0.9792 - accuracy: 0.7471\n",
            "Epoch 88/160\n",
            "118/118 [==============================] - 1s 5ms/step - loss: 0.9714 - accuracy: 0.7488\n",
            "Epoch 89/160\n",
            "118/118 [==============================] - 1s 5ms/step - loss: 0.9637 - accuracy: 0.7514\n",
            "Epoch 90/160\n",
            "118/118 [==============================] - 1s 8ms/step - loss: 0.9562 - accuracy: 0.7532\n",
            "Epoch 91/160\n",
            "118/118 [==============================] - 1s 7ms/step - loss: 0.9489 - accuracy: 0.7552\n",
            "Epoch 92/160\n",
            "118/118 [==============================] - 1s 7ms/step - loss: 0.9417 - accuracy: 0.7573\n",
            "Epoch 93/160\n",
            "118/118 [==============================] - 1s 7ms/step - loss: 0.9347 - accuracy: 0.7593\n",
            "Epoch 94/160\n",
            "118/118 [==============================] - 1s 8ms/step - loss: 0.9278 - accuracy: 0.7609\n",
            "Epoch 95/160\n",
            "118/118 [==============================] - 1s 6ms/step - loss: 0.9210 - accuracy: 0.7632\n",
            "Epoch 96/160\n",
            "118/118 [==============================] - 1s 5ms/step - loss: 0.9144 - accuracy: 0.7649\n",
            "Epoch 97/160\n",
            "118/118 [==============================] - 1s 5ms/step - loss: 0.9079 - accuracy: 0.7667\n",
            "Epoch 98/160\n",
            "118/118 [==============================] - 1s 5ms/step - loss: 0.9016 - accuracy: 0.7682\n",
            "Epoch 99/160\n",
            "118/118 [==============================] - 1s 5ms/step - loss: 0.8953 - accuracy: 0.7705\n",
            "Epoch 100/160\n",
            "118/118 [==============================] - 1s 5ms/step - loss: 0.8892 - accuracy: 0.7720\n",
            "Epoch 101/160\n",
            "118/118 [==============================] - 1s 5ms/step - loss: 0.8832 - accuracy: 0.7735\n",
            "Epoch 102/160\n",
            "118/118 [==============================] - 1s 5ms/step - loss: 0.8773 - accuracy: 0.7756\n",
            "Epoch 103/160\n",
            "118/118 [==============================] - 1s 4ms/step - loss: 0.8715 - accuracy: 0.7770\n",
            "Epoch 104/160\n",
            "118/118 [==============================] - 1s 5ms/step - loss: 0.8659 - accuracy: 0.7784\n",
            "Epoch 105/160\n",
            "118/118 [==============================] - 1s 5ms/step - loss: 0.8603 - accuracy: 0.7801\n",
            "Epoch 106/160\n",
            "118/118 [==============================] - 1s 5ms/step - loss: 0.8548 - accuracy: 0.7813\n",
            "Epoch 107/160\n",
            "118/118 [==============================] - 1s 5ms/step - loss: 0.8494 - accuracy: 0.7827\n",
            "Epoch 108/160\n",
            "118/118 [==============================] - 1s 5ms/step - loss: 0.8441 - accuracy: 0.7841\n",
            "Epoch 109/160\n",
            "118/118 [==============================] - 1s 5ms/step - loss: 0.8389 - accuracy: 0.7857\n",
            "Epoch 110/160\n",
            "118/118 [==============================] - 1s 5ms/step - loss: 0.8338 - accuracy: 0.7871\n",
            "Epoch 111/160\n",
            "118/118 [==============================] - 1s 5ms/step - loss: 0.8288 - accuracy: 0.7885\n",
            "Epoch 112/160\n",
            "118/118 [==============================] - 1s 5ms/step - loss: 0.8238 - accuracy: 0.7905\n",
            "Epoch 113/160\n",
            "118/118 [==============================] - 1s 7ms/step - loss: 0.8189 - accuracy: 0.7919\n",
            "Epoch 114/160\n",
            "118/118 [==============================] - 1s 8ms/step - loss: 0.8141 - accuracy: 0.7934\n",
            "Epoch 115/160\n",
            "118/118 [==============================] - 1s 7ms/step - loss: 0.8094 - accuracy: 0.7950\n",
            "Epoch 116/160\n",
            "118/118 [==============================] - 1s 8ms/step - loss: 0.8047 - accuracy: 0.7963\n",
            "Epoch 117/160\n",
            "118/118 [==============================] - 1s 8ms/step - loss: 0.8001 - accuracy: 0.7980\n",
            "Epoch 118/160\n",
            "118/118 [==============================] - 1s 5ms/step - loss: 0.7956 - accuracy: 0.7991\n",
            "Epoch 119/160\n",
            "118/118 [==============================] - 1s 5ms/step - loss: 0.7911 - accuracy: 0.8004\n",
            "Epoch 120/160\n",
            "118/118 [==============================] - 1s 5ms/step - loss: 0.7867 - accuracy: 0.8019\n",
            "Epoch 121/160\n",
            "118/118 [==============================] - 1s 5ms/step - loss: 0.7824 - accuracy: 0.8026\n",
            "Epoch 122/160\n",
            "118/118 [==============================] - 1s 5ms/step - loss: 0.7781 - accuracy: 0.8042\n",
            "Epoch 123/160\n",
            "118/118 [==============================] - 1s 5ms/step - loss: 0.7738 - accuracy: 0.8052\n",
            "Epoch 124/160\n",
            "118/118 [==============================] - 1s 5ms/step - loss: 0.7697 - accuracy: 0.8065\n",
            "Epoch 125/160\n",
            "118/118 [==============================] - 1s 5ms/step - loss: 0.7656 - accuracy: 0.8075\n",
            "Epoch 126/160\n",
            "118/118 [==============================] - 1s 5ms/step - loss: 0.7615 - accuracy: 0.8084\n",
            "Epoch 127/160\n",
            "118/118 [==============================] - 1s 5ms/step - loss: 0.7575 - accuracy: 0.8096\n",
            "Epoch 128/160\n",
            "118/118 [==============================] - 1s 5ms/step - loss: 0.7535 - accuracy: 0.8107\n",
            "Epoch 129/160\n",
            "118/118 [==============================] - 1s 5ms/step - loss: 0.7496 - accuracy: 0.8120\n",
            "Epoch 130/160\n",
            "118/118 [==============================] - 1s 5ms/step - loss: 0.7457 - accuracy: 0.8130\n",
            "Epoch 131/160\n",
            "118/118 [==============================] - 1s 5ms/step - loss: 0.7419 - accuracy: 0.8140\n",
            "Epoch 132/160\n",
            "118/118 [==============================] - 1s 5ms/step - loss: 0.7381 - accuracy: 0.8152\n",
            "Epoch 133/160\n",
            "118/118 [==============================] - 1s 5ms/step - loss: 0.7344 - accuracy: 0.8162\n",
            "Epoch 134/160\n",
            "118/118 [==============================] - 1s 5ms/step - loss: 0.7307 - accuracy: 0.8173\n",
            "Epoch 135/160\n",
            "118/118 [==============================] - 1s 6ms/step - loss: 0.7271 - accuracy: 0.8184\n",
            "Epoch 136/160\n",
            "118/118 [==============================] - 1s 8ms/step - loss: 0.7235 - accuracy: 0.8195\n",
            "Epoch 137/160\n",
            "118/118 [==============================] - 1s 8ms/step - loss: 0.7199 - accuracy: 0.8206\n",
            "Epoch 138/160\n",
            "118/118 [==============================] - 1s 7ms/step - loss: 0.7164 - accuracy: 0.8212\n",
            "Epoch 139/160\n",
            "118/118 [==============================] - 1s 7ms/step - loss: 0.7129 - accuracy: 0.8223\n",
            "Epoch 140/160\n",
            "118/118 [==============================] - 1s 6ms/step - loss: 0.7095 - accuracy: 0.8229\n",
            "Epoch 141/160\n",
            "118/118 [==============================] - 1s 5ms/step - loss: 0.7061 - accuracy: 0.8238\n",
            "Epoch 142/160\n",
            "118/118 [==============================] - 1s 5ms/step - loss: 0.7027 - accuracy: 0.8250\n",
            "Epoch 143/160\n",
            "118/118 [==============================] - 1s 5ms/step - loss: 0.6994 - accuracy: 0.8260\n",
            "Epoch 144/160\n",
            "118/118 [==============================] - 1s 5ms/step - loss: 0.6961 - accuracy: 0.8270\n",
            "Epoch 145/160\n",
            "118/118 [==============================] - 1s 5ms/step - loss: 0.6928 - accuracy: 0.8279\n",
            "Epoch 146/160\n",
            "118/118 [==============================] - 1s 5ms/step - loss: 0.6896 - accuracy: 0.8287\n",
            "Epoch 147/160\n",
            "118/118 [==============================] - 1s 5ms/step - loss: 0.6864 - accuracy: 0.8294\n",
            "Epoch 148/160\n",
            "118/118 [==============================] - 1s 9ms/step - loss: 0.6833 - accuracy: 0.8302\n",
            "Epoch 149/160\n",
            "118/118 [==============================] - 1s 5ms/step - loss: 0.6802 - accuracy: 0.8310\n",
            "Epoch 150/160\n",
            "118/118 [==============================] - 1s 5ms/step - loss: 0.6771 - accuracy: 0.8317\n",
            "Epoch 151/160\n",
            "118/118 [==============================] - 1s 5ms/step - loss: 0.6740 - accuracy: 0.8323\n",
            "Epoch 152/160\n",
            "118/118 [==============================] - 1s 5ms/step - loss: 0.6710 - accuracy: 0.8331\n",
            "Epoch 153/160\n",
            "118/118 [==============================] - 1s 5ms/step - loss: 0.6680 - accuracy: 0.8344\n",
            "Epoch 154/160\n",
            "118/118 [==============================] - 1s 5ms/step - loss: 0.6651 - accuracy: 0.8350\n",
            "Epoch 155/160\n",
            "118/118 [==============================] - 1s 5ms/step - loss: 0.6621 - accuracy: 0.8358\n",
            "Epoch 156/160\n",
            "118/118 [==============================] - 1s 5ms/step - loss: 0.6593 - accuracy: 0.8367\n",
            "Epoch 157/160\n",
            "118/118 [==============================] - 1s 7ms/step - loss: 0.6564 - accuracy: 0.8374\n",
            "Epoch 158/160\n",
            "118/118 [==============================] - 1s 7ms/step - loss: 0.6536 - accuracy: 0.8381\n",
            "Epoch 159/160\n",
            "118/118 [==============================] - 1s 7ms/step - loss: 0.6508 - accuracy: 0.8386\n",
            "Epoch 160/160\n",
            "118/118 [==============================] - 1s 8ms/step - loss: 0.6480 - accuracy: 0.8395\n"
          ]
        },
        {
          "output_type": "execute_result",
          "data": {
            "text/plain": [
              "<keras.src.callbacks.History at 0x7e5f6048e680>"
            ]
          },
          "metadata": {},
          "execution_count": 7
        }
      ]
    },
    {
      "cell_type": "markdown",
      "source": [
        "This code evaluates the trained neural network model on the test dataset, calculating the test loss and accuracy. The test accuracy is printed and displayed.\n",
        "\n",
        "\n",
        "\n",
        "\n",
        "\n"
      ],
      "metadata": {
        "id": "wb-rWnD7ldMM"
      }
    },
    {
      "cell_type": "code",
      "source": [
        "test_loss, test_acc = network.evaluate(test_images, test_labels)\n",
        "print('Test Accuracy: {:.5f} '.format(test_acc))\n",
        "test_acc"
      ],
      "metadata": {
        "colab": {
          "base_uri": "https://localhost:8080/"
        },
        "id": "lxgwEbxmozey",
        "outputId": "d8f1ca11-3642-43a6-c0ce-f88caa20c227"
      },
      "execution_count": 8,
      "outputs": [
        {
          "output_type": "stream",
          "name": "stdout",
          "text": [
            "313/313 [==============================] - 2s 2ms/step - loss: 0.6365 - accuracy: 0.8429\n",
            "Test Accuracy: 0.84290 \n"
          ]
        },
        {
          "output_type": "execute_result",
          "data": {
            "text/plain": [
              "0.8428999781608582"
            ]
          },
          "metadata": {},
          "execution_count": 8
        }
      ]
    },
    {
      "cell_type": "markdown",
      "source": [
        "This code generates a visualization of the neural network model architecture and saves it as a PNG file named 'model.png'. It then trains the model using the training data, validating on a subset of the data. After training, it plots the training and validation accuracy as well as the training and validation loss over epochs, providing insights into the model's performance and potential overfitting.\n",
        "\n",
        "The plot_model function generates a graphical representation of the model architecture, while the fit function trains the model. The training history is stored in the history_dict, and the accuracy and loss plots are displayed using Matplotlib.\n",
        "\n",
        "\n",
        "\n",
        "\n",
        "\n"
      ],
      "metadata": {
        "id": "pkks5kqzloIv"
      }
    },
    {
      "cell_type": "code",
      "source": [
        "from keras.utils import plot_model\n",
        "plot_model(network, to_file='model.png')\n",
        "import matplotlib.pyplot as plt\n",
        "history =network.fit(train_images, train_labels, validation_split=0.33,epochs=5, batch_size=512)\n",
        "history_dict = history.history\n",
        "print(history_dict.keys())\n",
        "plt.plot(history.history['accuracy'])\n",
        "plt.plot(history.history['val_accuracy'])\n",
        "plt.title('Model accuracy')\n",
        "plt.ylabel('Accuracy')\n",
        "plt.xlabel('Epoch')\n",
        "plt.legend(['Train', 'Test'], loc='upper left')\n",
        "plt.show()\n",
        "\n",
        "\n",
        "# Plot training & validation loss values\n",
        "plt.plot(history.history['loss'])\n",
        "plt.plot(history.history['val_loss'])\n",
        "plt.title('Model loss')\n",
        "plt.ylabel('Loss')\n",
        "plt.xlabel('Epoch')\n",
        "plt.legend(['Train', 'Test'], loc='upper left')\n",
        "plt.show()\n"
      ],
      "metadata": {
        "colab": {
          "base_uri": "https://localhost:8080/",
          "height": 1000
        },
        "id": "3vpftWmpo195",
        "outputId": "f684601a-e8dc-4881-a1f5-2c210312efb2"
      },
      "execution_count": 9,
      "outputs": [
        {
          "output_type": "stream",
          "name": "stdout",
          "text": [
            "Epoch 1/5\n",
            "79/79 [==============================] - 1s 9ms/step - loss: 0.6502 - accuracy: 0.8388 - val_loss: 0.6357 - val_accuracy: 0.8428\n",
            "Epoch 2/5\n",
            "79/79 [==============================] - 1s 7ms/step - loss: 0.6483 - accuracy: 0.8394 - val_loss: 0.6339 - val_accuracy: 0.8431\n",
            "Epoch 3/5\n",
            "79/79 [==============================] - 1s 7ms/step - loss: 0.6465 - accuracy: 0.8397 - val_loss: 0.6322 - val_accuracy: 0.8435\n",
            "Epoch 4/5\n",
            "79/79 [==============================] - 1s 9ms/step - loss: 0.6447 - accuracy: 0.8402 - val_loss: 0.6305 - val_accuracy: 0.8441\n",
            "Epoch 5/5\n",
            "79/79 [==============================] - 1s 7ms/step - loss: 0.6429 - accuracy: 0.8408 - val_loss: 0.6288 - val_accuracy: 0.8445\n",
            "dict_keys(['loss', 'accuracy', 'val_loss', 'val_accuracy'])\n"
          ]
        },
        {
          "output_type": "display_data",
          "data": {
            "text/plain": [
              "<Figure size 640x480 with 1 Axes>"
            ],
            "image/png": "[encoded data removed]"
          },
          "metadata": {}
        },
        {
          "output_type": "display_data",
          "data": {
            "text/plain": [
              "<Figure size 640x480 with 1 Axes>"
            ],
            "image/png": "[encoded data removed]"
          },
          "metadata": {}
        }
      ]
    }
  ]
}